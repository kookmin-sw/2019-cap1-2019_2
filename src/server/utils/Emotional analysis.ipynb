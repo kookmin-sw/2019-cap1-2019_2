{
 "cells": [
  {
   "cell_type": "markdown",
   "metadata": {},
   "source": [
    "# MS의 Face API를 이용한 감정분석"
   ]
  },
  {
   "cell_type": "code",
   "execution_count": 209,
   "metadata": {},
   "outputs": [
    {
     "name": "stdout",
     "output_type": "stream",
     "text": [
      "[{'faceId': '18fe5342-a1c5-415f-aea4-139b0180afed', 'faceRectangle': {'top': 56, 'left': 230, 'width': 88, 'height': 88}}]\n"
     ]
    }
   ],
   "source": [
    "import cognitive_face as CF\n",
    "\n",
    "KEY = 'be36e0125fac4abc9d5e6857d4f1c93d'  # Replace with a valid subscription key (keeping the quotes in place).\n",
    "CF.Key.set(KEY)\n",
    "\n",
    "BASE_URL = 'https://westcentralus.api.cognitive.microsoft.com/face/v1.0'  # Replace with your regional Base URL\n",
    "CF.BaseUrl.set(BASE_URL)\n",
    "\n",
    "# You can use this example JPG or replace the URL below with your own URL to a JPEG image.\n",
    "img_url = '../images/sample1.png'\n",
    "faces = CF.face.detect(img_url)\n",
    "print(faces)"
   ]
  },
  {
   "cell_type": "code",
   "execution_count": 254,
   "metadata": {},
   "outputs": [
    {
     "name": "stdout",
     "output_type": "stream",
     "text": [
      "[{'faceId': 'd4843d76-5228-4a4d-bc26-a24894c60c41', 'faceRectangle': {'top': 317, 'left': 294, 'width': 221, 'height': 221}, 'faceAttributes': {'emotion': {'anger': 0.0, 'contempt': 0.014, 'disgust': 0.0, 'fear': 0.0, 'happiness': 0.005, 'neutral': 0.954, 'sadness': 0.003, 'surprise': 0.023}}}, {'faceId': 'ef47a406-b67b-41dd-8e76-d5129cf948d1', 'faceRectangle': {'top': 237, 'left': 54, 'width': 162, 'height': 162}, 'faceAttributes': {'emotion': {'anger': 0.0, 'contempt': 0.0, 'disgust': 0.0, 'fear': 0.0, 'happiness': 0.921, 'neutral': 0.058, 'sadness': 0.0, 'surprise': 0.02}}}, {'faceId': '011cf8ca-9a99-4442-ba4a-8e8c379a0eb9', 'faceRectangle': {'top': 96, 'left': 607, 'width': 142, 'height': 142}, 'faceAttributes': {'emotion': {'anger': 0.0, 'contempt': 0.0, 'disgust': 0.0, 'fear': 0.0, 'happiness': 0.016, 'neutral': 0.984, 'sadness': 0.0, 'surprise': 0.0}}}, {'faceId': 'fe3649f4-c6ce-48ab-bc15-a33b093715a0', 'faceRectangle': {'top': 125, 'left': 215, 'width': 107, 'height': 107}, 'faceAttributes': {'emotion': {'anger': 0.0, 'contempt': 0.001, 'disgust': 0.0, 'fear': 0.0, 'happiness': 0.002, 'neutral': 0.988, 'sadness': 0.009, 'surprise': 0.0}}}, {'faceId': '22c22720-5b3f-4bc9-a71a-5e4ae7979c89', 'faceRectangle': {'top': 92, 'left': 401, 'width': 105, 'height': 105}, 'faceAttributes': {'emotion': {'anger': 0.0, 'contempt': 0.0, 'disgust': 0.0, 'fear': 0.0, 'happiness': 0.039, 'neutral': 0.96, 'sadness': 0.0, 'surprise': 0.0}}}]\n"
     ]
    }
   ],
   "source": [
    "import requests\n",
    "\n",
    "subscription_key = 'be36e0125fac4abc9d5e6857d4f1c93d'\n",
    "assert subscription_key\n",
    "\n",
    "face_api_url = 'https://westcentralus.api.cognitive.microsoft.com/face/v1.0/detect'\n",
    "\n",
    "data = open('../images/sample2.jpg', 'rb').read()  \n",
    "\n",
    "headers = { \n",
    "    'Content-Type': 'application/octet-stream',   # this should be the content type\n",
    "    'Ocp-Apim-Subscription-Key': subscription_key \n",
    "}\n",
    "    \n",
    "params = {\n",
    "    'returnFaceId': 'true',\n",
    "    'returnFaceLandmarks': 'false',\n",
    "    'returnFaceAttributes': 'emotion',\n",
    "}\n",
    "\n",
    "response = requests.post(face_api_url, params=params, headers=headers, data = data)\n",
    "faces = response.json()\n",
    "\n",
    "print (faces)"
   ]
  },
  {
   "cell_type": "code",
   "execution_count": 255,
   "metadata": {},
   "outputs": [],
   "source": [
    "import numpy as np\n",
    "import pandas as pd"
   ]
  },
  {
   "cell_type": "code",
   "execution_count": 256,
   "metadata": {},
   "outputs": [],
   "source": [
    "faces_str = str(faces)\n",
    "data = faces_str.split('}}}, ')"
   ]
  },
  {
   "cell_type": "code",
   "execution_count": 257,
   "metadata": {},
   "outputs": [
    {
     "data": {
      "text/plain": [
       "[\"[{'faceId': 'd4843d76-5228-4a4d-bc26-a24894c60c41', 'faceRectangle': {'top': 317, 'left': 294, 'width': 221, 'height': 221}, 'faceAttributes': {'emotion': {'anger': 0.0, 'contempt': 0.014, 'disgust': 0.0, 'fear': 0.0, 'happiness': 0.005, 'neutral': 0.954, 'sadness': 0.003, 'surprise': 0.023\",\n",
       " \"{'faceId': 'ef47a406-b67b-41dd-8e76-d5129cf948d1', 'faceRectangle': {'top': 237, 'left': 54, 'width': 162, 'height': 162}, 'faceAttributes': {'emotion': {'anger': 0.0, 'contempt': 0.0, 'disgust': 0.0, 'fear': 0.0, 'happiness': 0.921, 'neutral': 0.058, 'sadness': 0.0, 'surprise': 0.02\",\n",
       " \"{'faceId': '011cf8ca-9a99-4442-ba4a-8e8c379a0eb9', 'faceRectangle': {'top': 96, 'left': 607, 'width': 142, 'height': 142}, 'faceAttributes': {'emotion': {'anger': 0.0, 'contempt': 0.0, 'disgust': 0.0, 'fear': 0.0, 'happiness': 0.016, 'neutral': 0.984, 'sadness': 0.0, 'surprise': 0.0\",\n",
       " \"{'faceId': 'fe3649f4-c6ce-48ab-bc15-a33b093715a0', 'faceRectangle': {'top': 125, 'left': 215, 'width': 107, 'height': 107}, 'faceAttributes': {'emotion': {'anger': 0.0, 'contempt': 0.001, 'disgust': 0.0, 'fear': 0.0, 'happiness': 0.002, 'neutral': 0.988, 'sadness': 0.009, 'surprise': 0.0\",\n",
       " \"{'faceId': '22c22720-5b3f-4bc9-a71a-5e4ae7979c89', 'faceRectangle': {'top': 92, 'left': 401, 'width': 105, 'height': 105}, 'faceAttributes': {'emotion': {'anger': 0.0, 'contempt': 0.0, 'disgust': 0.0, 'fear': 0.0, 'happiness': 0.039, 'neutral': 0.96, 'sadness': 0.0, 'surprise': 0.0}}}]\"]"
      ]
     },
     "execution_count": 257,
     "metadata": {},
     "output_type": "execute_result"
    }
   ],
   "source": [
    "data"
   ]
  },
  {
   "cell_type": "code",
   "execution_count": 258,
   "metadata": {},
   "outputs": [
    {
     "data": {
      "text/plain": [
       "5"
      ]
     },
     "execution_count": 258,
     "metadata": {},
     "output_type": "execute_result"
    }
   ],
   "source": [
    "len(data)  # 5 people"
   ]
  },
  {
   "cell_type": "code",
   "execution_count": 274,
   "metadata": {},
   "outputs": [
    {
     "name": "stdout",
     "output_type": "stream",
     "text": [
      "<class 'list'>\n",
      "['anger: 0.0', 'contempt: 0.014', 'disgust: 0.0', 'fear: 0.0', 'happiness: 0.005', 'neutral: 0.954', 'sadness: 0.003', 'surprise: 0.023']\n",
      "<class 'list'>\n",
      "['anger: 0.0', 'contempt: 0.0', 'disgust: 0.0', 'fear: 0.0', 'happiness: 0.921', 'neutral: 0.058', 'sadness: 0.0', 'surprise: 0.02']\n",
      "<class 'list'>\n",
      "['anger: 0.0', 'contempt: 0.0', 'disgust: 0.0', 'fear: 0.0', 'happiness: 0.016', 'neutral: 0.984', 'sadness: 0.0', 'surprise: 0.0']\n",
      "<class 'list'>\n",
      "['anger: 0.0', 'contempt: 0.001', 'disgust: 0.0', 'fear: 0.0', 'happiness: 0.002', 'neutral: 0.988', 'sadness: 0.009', 'surprise: 0.0']\n",
      "<class 'list'>\n",
      "['anger: 0.0', 'contempt: 0.0', 'disgust: 0.0', 'fear: 0.0', 'happiness: 0.039', 'neutral: 0.96', 'sadness: 0.0', 'surprise: 0.0']\n"
     ]
    }
   ],
   "source": [
    "idx = ['anger', 'contempt', 'disgust', 'fear', 'happiness', 'neutral', 'sadness', 'surprise']\n",
    "emotion_df = pd.DataFrame(index = idx)\n",
    "\n",
    "for i in range(len(data)):\n",
    "    faceInfo = str(data[i])\n",
    "    search = 'anger'\n",
    "\n",
    "    result = faceInfo.find(search)\n",
    "\n",
    "    emotion = faceInfo[result-1:len(faceInfo)]\n",
    "    emotion = emotion.replace(\"\\'\", \"\")\n",
    "    emotion = emotion.replace(\"}\", \"\")\n",
    "    emotion = emotion.replace(\"]\", \"\")\n",
    "    emotion = emotion.replace(\"{\", \"\")\n",
    "    emotion = emotion.replace(\"[\", \"\")\n",
    "    emotion_li = emotion.split(', ')\n",
    "    print(type(emotion_li))\n",
    "    print(emotion_li)\n",
    "    \n",
    "    prob = []\n",
    "    for j in range(len(emotion_li)):\n",
    "        row = str(emotion_li[j])\n",
    "        arr = row.split(': ')\n",
    "        prob.append(arr[1])\n",
    "        \n",
    "    emotion_df[i] = prob\n",
    "    "
   ]
  },
  {
   "cell_type": "code",
   "execution_count": 275,
   "metadata": {},
   "outputs": [
    {
     "name": "stdout",
     "output_type": "stream",
     "text": [
      "               0      1      2      3      4\n",
      "anger        0.0    0.0    0.0    0.0    0.0\n",
      "contempt   0.014    0.0    0.0  0.001    0.0\n",
      "disgust      0.0    0.0    0.0    0.0    0.0\n",
      "fear         0.0    0.0    0.0    0.0    0.0\n",
      "happiness  0.005  0.921  0.016  0.002  0.039\n",
      "neutral    0.954  0.058  0.984  0.988   0.96\n",
      "sadness    0.003    0.0    0.0  0.009    0.0\n",
      "surprise   0.023   0.02    0.0    0.0    0.0\n"
     ]
    }
   ],
   "source": [
    "print(emotion_df)"
   ]
  }
 ],
 "metadata": {
  "kernelspec": {
   "display_name": "Python 3",
   "language": "python",
   "name": "python3"
  },
  "language_info": {
   "codemirror_mode": {
    "name": "ipython",
    "version": 3
   },
   "file_extension": ".py",
   "mimetype": "text/x-python",
   "name": "python",
   "nbconvert_exporter": "python",
   "pygments_lexer": "ipython3",
   "version": "3.6.7"
  }
 },
 "nbformat": 4,
 "nbformat_minor": 2
}
